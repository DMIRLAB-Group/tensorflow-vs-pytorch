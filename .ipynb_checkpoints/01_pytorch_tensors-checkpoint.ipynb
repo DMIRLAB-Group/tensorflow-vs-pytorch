{
 "cells": [
  {
   "cell_type": "markdown",
   "metadata": {},
   "source": [
    "# Pytroch - Tensor: Variable handling"
   ]
  },
  {
   "cell_type": "markdown",
   "metadata": {},
   "source": [
    "## Tensor"
   ]
  },
  {
   "cell_type": "code",
   "execution_count": 3,
   "metadata": {},
   "outputs": [],
   "source": [
    "import torch"
   ]
  },
  {
   "cell_type": "markdown",
   "metadata": {},
   "source": [
    "\n",
    "Unlike Tensorflow, the tensor command itself determines the data type.  \n",
    "Then, we feed the python list.\n",
    "\n",
    "torch.cuda.FloatTensor, torch.cuda.DoubleTensor, torch.cuda.HalfTensor\n",
    "torch.cuda.ByteTensor, torch.cuda.CharTensor, torch.cuda.ShortTensor\n",
    "torch.cuda.IntTensor, torch.cuda.LongTensor\n",
    "\n",
    "If you want to use CPU, you can remove cuda. Ex: torch.FloatTensor"
   ]
  },
  {
   "cell_type": "code",
   "execution_count": 5,
   "metadata": {},
   "outputs": [
    {
     "name": "stdout",
     "output_type": "stream",
     "text": [
      "\n",
      " 1  2\n",
      " 3  4\n",
      "[torch.FloatTensor of size 2x2]\n",
      "\n"
     ]
    }
   ],
   "source": [
    "cpu_tensor = torch.FloatTensor([[1,2], [3,4]])\n",
    "print cpu_tensor\n"
   ]
  },
  {
   "cell_type": "code",
   "execution_count": null,
   "metadata": {
    "collapsed": true
   },
   "outputs": [],
   "source": []
  }
 ],
 "metadata": {
  "kernelspec": {
   "display_name": "Python 2",
   "language": "python",
   "name": "python2"
  },
  "language_info": {
   "codemirror_mode": {
    "name": "ipython",
    "version": 2
   },
   "file_extension": ".py",
   "mimetype": "text/x-python",
   "name": "python",
   "nbconvert_exporter": "python",
   "pygments_lexer": "ipython2",
   "version": "2.7.12"
  }
 },
 "nbformat": 4,
 "nbformat_minor": 1
}
