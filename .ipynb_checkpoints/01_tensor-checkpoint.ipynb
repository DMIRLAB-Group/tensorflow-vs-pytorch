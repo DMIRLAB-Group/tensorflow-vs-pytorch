{
 "cells": [
  {
   "cell_type": "markdown",
   "metadata": {},
   "source": [
    "# **01 Tensor**"
   ]
  },
  {
   "cell_type": "markdown",
   "metadata": {},
   "source": [
    "TensorFlow and PyTorch both are based on the concept \"Tensor\". \n",
    "\n",
    "However, the term \"Variable\" in each framework is used in different way.\n",
    "\n",
    "**TensorFlow**\n",
    "\n",
    "IF you want to declare mutable variable (weight and bias): use **tf.Variable**  \n",
    "IF you want to declare immutable variable (a constant that will never change): use **tf.constant**\n",
    "\n",
    "**PyTorch**\n",
    "\n",
    "IF you want to calculate matrix with torch framework: use **torch.FloatTensor**  \n",
    "IF you want to use autograd and get gradient value: use **torch.autograd.Variable**\n",
    "\n",
    "Let's get into details."
   ]
  },
  {
   "cell_type": "markdown",
   "metadata": {},
   "source": [
    "# 1. The Concept of Tensor "
   ]
  },
  {
   "cell_type": "markdown",
   "metadata": {},
   "source": [
    "\n",
    "## **[TensorFlow]** Tensors and special type of tensors"
   ]
  },
  {
   "cell_type": "code",
   "execution_count": 1,
   "metadata": {},
   "outputs": [],
   "source": [
    "import tensorflow as tf\n",
    "import numpy as np"
   ]
  },
  {
   "cell_type": "markdown",
   "metadata": {},
   "source": [
    "The concept of \"tensor\" in Tensorflow is very confusing for beginners.\n",
    "When it says \"tf.Tensor\", that means \"Class Tensor\".\n",
    "And there are some special type of tensors as follows.\n",
    "\n",
    "Unfortunately, TensorFlow's official website [Tensorflow Programmer's Guide - Tensor](https://www.tensorflow.org/programmers_guide/tensors) explains this in very confusing way. Official guide from TensorFlow's website says these three tensors are the most commonly used special type tensors:\n",
    "\n",
    "> **tf.Variable**\n",
    "\n",
    "> **tf.constant**\n",
    "\n",
    "> **tf.placeholder** \n",
    "\n",
    "> **tf.SparseTensor** "
   ]
  },
  {
   "cell_type": "markdown",
   "metadata": {},
   "source": [
    "However, tf.Variable is not internally categorized as a \"Tensor\" according to the class structure that we can see with \"type\" command in python."
   ]
  },
  {
   "cell_type": "code",
   "execution_count": 2,
   "metadata": {},
   "outputs": [
    {
     "name": "stdout",
     "output_type": "stream",
     "text": [
      "Type of tf.Variable is:  <class 'tensorflow.python.ops.variables.Variable'>\n",
      "Type of tf.constant is:  <class 'tensorflow.python.framework.ops.Tensor'>\n",
      "Type of tf.placeholder is:  <class 'tensorflow.python.framework.ops.Tensor'>\n",
      "Type of tf.SparseTensor is:  <class 'tensorflow.python.framework.sparse_tensor.SparseTensor'>\n"
     ]
    }
   ],
   "source": [
    "tf_var = tf.Variable([1, 2])\n",
    "tf_const = tf.constant([1, 2])\n",
    "tf_ph = tf.placeholder(tf.float32, shape=(2, 2))\n",
    "tf_spts = tf.SparseTensor(indices=[[0, 0], [1, 2]], values=[1, 2], dense_shape=[3, 4])\n",
    "\n",
    "print('Type of tf.Variable is: ', type(tf_var))\n",
    "print('Type of tf.constant is: ', type(tf_const))\n",
    "print('Type of tf.placeholder is: ', type(tf_ph))\n",
    "print('Type of tf.SparseTensor is: ', type(tf_spts))"
   ]
  },
  {
   "cell_type": "markdown",
   "metadata": {},
   "source": [
    "Threrefore, the following description would be way less confusing.  \n",
    "\n",
    "\n",
    "- tf.Variable createss Variable.\n",
    "- tf.constant createss Tensor.\n",
    "- tf.placeholder creates Tensor.\n",
    "- tf.SparseTensor creates SparseTensor (which is similar to Tensor)."
   ]
  },
  {
   "cell_type": "markdown",
   "metadata": {},
   "source": [
    "There are more special type tensors other than above three.\n",
    "However, there are regular type of tensors \n",
    "\n",
    "> **tf.zeros** \n",
    "\n",
    "> **tf.ones**\n",
    "\n",
    "The following dimension is usually used for batch image source.\n",
    "Dimension index: Batch x height x width x color-channel\n",
    "\n",
    "Ex: 4 -dimensional tensor"
   ]
  },
  {
   "cell_type": "code",
   "execution_count": 3,
   "metadata": {},
   "outputs": [
    {
     "name": "stdout",
     "output_type": "stream",
     "text": [
      "The shape of my_image: (10, 512, 256, 3)\n",
      "The type of my_image: <class 'tensorflow.python.framework.ops.Tensor'>\n"
     ]
    }
   ],
   "source": [
    "my_image = tf.zeros([10, 512, 256, 3])\n",
    "print('The shape of my_image:', my_image.shape)\n",
    "print('The type of my_image:', type(my_image))"
   ]
  },
  {
   "cell_type": "markdown",
   "metadata": {},
   "source": [
    "These are just regular tensor and you can define special type tensor with regular ones."
   ]
  },
  {
   "cell_type": "code",
   "execution_count": 4,
   "metadata": {},
   "outputs": [
    {
     "name": "stdout",
     "output_type": "stream",
     "text": [
      "The shape of tf_var0: (2, 2)\n"
     ]
    }
   ],
   "source": [
    "tf_var0 = tf.Variable(tf.zeros((2,2)))\n",
    "print('The shape of tf_var0:', tf_var0.shape)"
   ]
  },
  {
   "cell_type": "markdown",
   "metadata": {},
   "source": [
    "Or, you can directly convert numpy into tf.Varialbe (which is tf.Tensor)"
   ]
  },
  {
   "cell_type": "code",
   "execution_count": 5,
   "metadata": {},
   "outputs": [
    {
     "name": "stdout",
     "output_type": "stream",
     "text": [
      "The shape of tf_var1: (2, 2)\n"
     ]
    }
   ],
   "source": [
    "tf_var1 = tf.Variable(np.zeros((2,2)))\n",
    "print('The shape of tf_var1:', tf_var1.shape)"
   ]
  },
  {
   "cell_type": "markdown",
   "metadata": {},
   "source": [
    "If we want to directly declare tensorflow Tensor, we have to specify \n",
    "\n",
    "*  shape\n",
    "*  datatype\n",
    "\n",
    "to declare a special type tensors. (which is tf.Variable, tf.constant, tf.placeholder... etc)\n",
    "\n"
   ]
  },
  {
   "cell_type": "code",
   "execution_count": 6,
   "metadata": {},
   "outputs": [
    {
     "name": "stdout",
     "output_type": "stream",
     "text": [
      "Directly declare a Tensor:  Tensor(\"ones:0\", shape=(3, 4, 4), dtype=float64)\n"
     ]
    }
   ],
   "source": [
    "tf_tensor_ones = tf.ones([3, 4, 4], dtype=tf.float64)\n",
    "print('Directly declare a Tensor: ', tf_tensor_ones)"
   ]
  },
  {
   "cell_type": "markdown",
   "metadata": {},
   "source": [
    "### Difference between special tensors/Variable (TensorFlow)\n",
    "**(1) tf.Variable **\n",
    "- tf.Variable is **NOT** actually tensor, but rather it should be classified as **Variable** to avoid confusion.\n",
    "- tf.Variable is the only type that can be modified.\n",
    "- tf.Variable is designed for weights and bias(≠ tf.placeholder). Not for feeding data.\n",
    "- tf.Variable is stored separately, and may live on a parameter server, **not in the graph**. \n",
    "- tf.Variable should always be initialized before run.\n",
    "- Usually declared by [initial value], [dtype], [name]. (There are more arguments...)"
   ]
  },
  {
   "cell_type": "code",
   "execution_count": 7,
   "metadata": {},
   "outputs": [],
   "source": [
    "mymat = tf.Variable([[7],[11]], tf.int16, name='cat') \n",
    "squarish_squares = tf.Variable([ [4, 9], [16, 25] ], tf.int32)"
   ]
  },
  {
   "cell_type": "markdown",
   "metadata": {},
   "source": [
    "**(2) tf.constant**\n",
    "- tf.constant holds values that cannot be changed.\n",
    "- tf.constant is also designed for weights and bias, but fixed value. \n",
    "- tf.constant value is stored in the graph and its value is replicated wherever the graph is loaded.\n",
    "- tf.constant does not need to be initialized. (≠ tf.Variable)"
   ]
  },
  {
   "cell_type": "code",
   "execution_count": 8,
   "metadata": {},
   "outputs": [],
   "source": [
    "const_tensor = tf.constant([[7],[11]], tf.int16, name='cat') "
   ]
  },
  {
   "cell_type": "markdown",
   "metadata": {},
   "source": [
    "**(3) tf.placeholder**\n",
    "- tf.placeholder is designed to store values to be fed, such as images.\n",
    "- tf.placeholder will produce an error if evaluated. Its value must be fed using the feed_dict optional argument to Session.run(), Tensor.eval(), or Operation.run().\n",
    "- tf.placeholder is usually declared with [dtype], [data shape]"
   ]
  },
  {
   "cell_type": "code",
   "execution_count": 9,
   "metadata": {},
   "outputs": [],
   "source": [
    "placeholder_tensor = tf.placeholder(tf.float32, shape=(2, 2))"
   ]
  },
  {
   "cell_type": "markdown",
   "metadata": {},
   "source": [
    "## **[PyTorch]** Torch tensor and torch.Variable"
   ]
  },
  {
   "cell_type": "code",
   "execution_count": 10,
   "metadata": {},
   "outputs": [],
   "source": [
    "import torch"
   ]
  },
  {
   "cell_type": "markdown",
   "metadata": {},
   "source": [
    "Unlike Tensorflow, the tensor command itself determines the data type.  \n",
    "Then, we feed the python list.\n",
    "\n",
    "> torch.cuda.FloatTensor \n",
    "> torch.cuda.DoubleTensor\n",
    "> torch.cuda.HalfTensor\n",
    "> torch.cuda.ByteTensor \n",
    "> torch.cuda.CharTensor \n",
    "> torch.cuda.ShortTensor\n",
    "> torch.cuda.IntTensor \n",
    "> torch.cuda.LongTensor\n",
    "\n",
    "If you want to use CPU, you can remove cuda. Ex: torch.FloatTensor"
   ]
  },
  {
   "cell_type": "code",
   "execution_count": 11,
   "metadata": {},
   "outputs": [
    {
     "name": "stdout",
     "output_type": "stream",
     "text": [
      "CPU tensor: \n",
      " 1  2\n",
      " 3  4\n",
      "[torch.FloatTensor of size 2x2]\n",
      "\n",
      "GPU tensor: \n",
      " 1  2\n",
      " 3  4\n",
      "[torch.cuda.FloatTensor of size 2x2 (GPU 0)]\n",
      "\n"
     ]
    }
   ],
   "source": [
    "cpu_tensor = torch.FloatTensor([[1,2], [3,4]])\n",
    "gpu_tensor = torch.cuda.FloatTensor([[1, 2], [3, 4]]) \n",
    "print('CPU tensor:', cpu_tensor)\n",
    "print('GPU tensor:', gpu_tensor)"
   ]
  },
  {
   "cell_type": "markdown",
   "metadata": {},
   "source": [
    "Unlike tf.Variable, PyTorch's Variable functions differently. Since PyTorch is based on \"Autograd\" which enables Define-by-Run type of programming with PyTorch. We will deal with this again later."
   ]
  },
  {
   "cell_type": "code",
   "execution_count": 12,
   "metadata": {
    "scrolled": true
   },
   "outputs": [
    {
     "name": "stdout",
     "output_type": "stream",
     "text": [
      "Torch Variable x:  Variable containing:\n",
      " 1\n",
      " 2\n",
      "[torch.FloatTensor of size 2]\n",
      "\n"
     ]
    }
   ],
   "source": [
    "x_np = np.array([1, 2])\n",
    "x = torch.autograd.Variable(torch.from_numpy(x_np).type(torch.FloatTensor), requires_grad=True)\n",
    "print('Torch Variable x: ', x)\n"
   ]
  },
  {
   "cell_type": "markdown",
   "metadata": {},
   "source": [
    "We will study about torch.Variable in detail. In this chapter, make sure to understand the difference between torch.Tensor and torch.Variable. The following \n"
   ]
  },
  {
   "cell_type": "code",
   "execution_count": 13,
   "metadata": {},
   "outputs": [
    {
     "name": "stdout",
     "output_type": "stream",
     "text": [
      "Type of torch.Varialbe:  <class 'torch.autograd.variable.Variable'>\n",
      "Type of torch.Tensor:  <class 'torch.FloatTensor'>\n"
     ]
    }
   ],
   "source": [
    "print('Type of torch.Varialbe: ', type(x))\n",
    "print('Type of torch.Tensor: ', type(cpu_tensor))"
   ]
  },
  {
   "cell_type": "markdown",
   "metadata": {},
   "source": [
    "Because of the forementioned reason, PyTorch's Variable contains three different entities as below"
   ]
  },
  {
   "cell_type": "markdown",
   "metadata": {},
   "source": [
    "**torch.autograd.Variable**\n",
    "> **data**: Raw data Variable contains inside the variable.\n",
    "\n",
    "> **grad**: Gradient obtained from Autograd feature in PyTorch.\n",
    "\n",
    "> **creator**: Variable remembers how the variable is created and what operation it has gone through. \n",
    "(*Creator does not exists as a real variable in the torch.autograd.Variable.)\n"
   ]
  },
  {
   "cell_type": "markdown",
   "metadata": {},
   "source": [
    "Unlike TensorFlow, PyTorch Variable contains the history of the Variable itself to enable Autograd feature. When the a variable is declared, .grad and .grad_fn contain None."
   ]
  },
  {
   "cell_type": "code",
   "execution_count": 14,
   "metadata": {},
   "outputs": [
    {
     "name": "stdout",
     "output_type": "stream",
     "text": [
      "x.data: \n",
      " 1\n",
      " 2\n",
      "[torch.FloatTensor of size 2]\n",
      "\n",
      "x.grad: None\n",
      "x.grad: None\n"
     ]
    }
   ],
   "source": [
    "print('x.data:', x.data)\n",
    "print('x.grad:', x.grad)\n",
    "print('x.grad:', x.grad_fn)"
   ]
  },
  {
   "cell_type": "markdown",
   "metadata": {},
   "source": [
    "However, if the Variables go through some mathmatical operation and we use .backward() function to use Autograd feature.  \n",
    "Then we can see what is inside the variables .data, .grad and .grad_fn. \".grad_fn\" variable contains the gradiemt function that has automatically assigned to the operation.\n",
    "\n",
    "\n",
    "We will discuss about this in detail later. Here, make sure you understand torch.autograd.Variable contains the following variables. "
   ]
  },
  {
   "cell_type": "code",
   "execution_count": 15,
   "metadata": {
    "scrolled": true
   },
   "outputs": [
    {
     "name": "stdout",
     "output_type": "stream",
     "text": [
      "y, z contains : Variable containing:\n",
      " 2\n",
      " 4\n",
      "[torch.FloatTensor of size 2]\n",
      " \n",
      " Variable containing:\n",
      " 3\n",
      "[torch.FloatTensor of size 1]\n",
      "\n",
      "After backward() x.data: \n",
      " 1\n",
      " 2\n",
      "[torch.FloatTensor of size 2]\n",
      "\n",
      "After backward() x.grad: Variable containing:\n",
      " 1\n",
      " 1\n",
      "[torch.FloatTensor of size 2]\n",
      "\n"
     ]
    }
   ],
   "source": [
    "y = x * 2\n",
    "z = y.mean()\n",
    "print('y, z contains :', y, '\\n', z)\n",
    "z.backward()\n",
    "print('After backward() x.data:', x.data)\n",
    "print('After backward() x.grad:', x.grad)"
   ]
  },
  {
   "cell_type": "code",
   "execution_count": 16,
   "metadata": {},
   "outputs": [
    {
     "name": "stdout",
     "output_type": "stream",
     "text": [
      "x.grad_fn: None\n",
      "y.grad_fn: <torch.autograd.function.MulConstantBackward object at 0x7f5f94f06c78>\n",
      "z.grad_fn: <torch.autograd.function.MeanBackward object at 0x7f5f94f06b88>\n"
     ]
    }
   ],
   "source": [
    "print('x.grad_fn:', x.grad_fn)\n",
    "print('y.grad_fn:', y.grad_fn)\n",
    "print('z.grad_fn:', z.grad_fn)"
   ]
  },
  {
   "cell_type": "markdown",
   "metadata": {},
   "source": [
    "# 2. Tensor-Numpy Conversion\n",
    "## **[TensorFlow]** tf.convert_to_tensor or .eval()"
   ]
  },
  {
   "cell_type": "markdown",
   "metadata": {},
   "source": [
    "### Numpy to tf.Tensor"
   ]
  },
  {
   "cell_type": "markdown",
   "metadata": {},
   "source": [
    "Numpy automatically sets the datatype as float64. \n",
    "\n",
    "However, TensorFlow uses float32 as a default. \n",
    "To convert a tf.Tensor from numpy array, use \n",
    "\n",
    "> **tf.convert_to_tensor()**\n",
    "\n",
    "function as below."
   ]
  },
  {
   "cell_type": "code",
   "execution_count": 17,
   "metadata": {},
   "outputs": [],
   "source": [
    "numpy_array = np.asarray([[1, 2, 3], [4, 5, 6]], np.float32)\n",
    "tensorflow_tensor = tf.convert_to_tensor(numpy_array, np.float32)"
   ]
  },
  {
   "cell_type": "markdown",
   "metadata": {},
   "source": [
    "### tf.Tensor to Numpy"
   ]
  },
  {
   "cell_type": "markdown",
   "metadata": {},
   "source": [
    "If you want to convert tf.Tensor to numpy array, you can evaluate the tensorflow tensor."
   ]
  },
  {
   "cell_type": "code",
   "execution_count": 18,
   "metadata": {},
   "outputs": [
    {
     "name": "stdout",
     "output_type": "stream",
     "text": [
      "The Source Numpy Array:\n",
      " [[ 1.  2.  3.]\n",
      " [ 4.  5.  6.]]\n",
      "Tensorflow Tensor Value:\n",
      " Tensor(\"Const_1:0\", shape=(2, 3), dtype=float32)\n",
      "Tensorflow Tensor Type:\n",
      " <class 'tensorflow.python.framework.ops.Tensor'>\n",
      "Evaluated Tensor:\n",
      " [[ 1.  2.  3.]\n",
      " [ 4.  5.  6.]]\n"
     ]
    }
   ],
   "source": [
    "tf.InteractiveSession()\n",
    "evaluated_tensor = tensorflow_tensor.eval()\n",
    "print('The Source Numpy Array:\\n', numpy_array)\n",
    "print('Tensorflow Tensor Value:\\n', tensorflow_tensor)\n",
    "print('Tensorflow Tensor Type:\\n', type(tensorflow_tensor))\n",
    "print('Evaluated Tensor:\\n', evaluated_tensor)"
   ]
  },
  {
   "cell_type": "markdown",
   "metadata": {},
   "source": [
    "Or you can create a sesssion rather than using interactive session."
   ]
  },
  {
   "cell_type": "code",
   "execution_count": 19,
   "metadata": {},
   "outputs": [
    {
     "name": "stdout",
     "output_type": "stream",
     "text": [
      "The original tensor before conversion:  <class 'tensorflow.python.framework.ops.Tensor'>\n",
      "The type of converted tensor:  <class 'numpy.ndarray'>\n"
     ]
    }
   ],
   "source": [
    "tensorflow_tensor = tf.convert_to_tensor(numpy_array, np.float32)\n",
    "sess = tf.Session()\n",
    "with sess.as_default():\n",
    "    print('The original tensor before conversion: ', type(tensorflow_tensor))\n",
    "    print('The type of converted tensor: ', type(tensorflow_tensor.eval()))"
   ]
  },
  {
   "cell_type": "markdown",
   "metadata": {},
   "source": [
    "## **[PyTorch]** .numpy() or torch.from_numpy()"
   ]
  },
  {
   "cell_type": "markdown",
   "metadata": {},
   "source": [
    "### Numpy to torch.Tensor"
   ]
  },
  {
   "cell_type": "markdown",
   "metadata": {},
   "source": [
    "In PyTorch, the conversion is much simpler. Use \n",
    "\n",
    "**>torch.from_numpy() **\n",
    "\n",
    "function to get a torch.Tensor.\n"
   ]
  },
  {
   "cell_type": "code",
   "execution_count": 20,
   "metadata": {},
   "outputs": [
    {
     "name": "stdout",
     "output_type": "stream",
     "text": [
      "The Source Numpy Array:\n",
      " [[1 2 3]\n",
      " [4 5 6]]\n",
      "Torch Tensor Value:\n",
      " \n",
      " 1  2  3\n",
      " 4  5  6\n",
      "[torch.LongTensor of size 2x3]\n",
      "\n",
      "Torch Tensor Type:\n",
      " <class 'numpy.ndarray'>\n"
     ]
    }
   ],
   "source": [
    "numpy_array = np.asarray([[1, 2, 3], [4, 5, 6]])\n",
    "torch_for_numpy = torch.from_numpy(numpy_array)\n",
    "print('The Source Numpy Array:\\n', numpy_array)\n",
    "print('Torch Tensor Value:\\n', torch_for_numpy)\n",
    "print('Torch Tensor Type:\\n', type(numpy_array))\n"
   ]
  },
  {
   "cell_type": "markdown",
   "metadata": {},
   "source": [
    "### torch.Tensor to Numpy"
   ]
  },
  {
   "cell_type": "markdown",
   "metadata": {},
   "source": [
    "From torch.Tensor to numpy is even simpler than other way around."
   ]
  },
  {
   "cell_type": "code",
   "execution_count": 21,
   "metadata": {},
   "outputs": [
    {
     "name": "stdout",
     "output_type": "stream",
     "text": [
      "The value of numpy_again: \n",
      " [[1 2 3]\n",
      " [4 5 6]]\n",
      "The type of numpy_again: \n",
      " <class 'numpy.ndarray'>\n"
     ]
    }
   ],
   "source": [
    "numpy_again = torch_for_numpy.numpy()\n",
    "print('The value of numpy_again: \\n', numpy_again)\n",
    "print('The type of numpy_again: \\n', type(numpy_again))"
   ]
  },
  {
   "cell_type": "markdown",
   "metadata": {},
   "source": [
    "As above, we've got numpy array again. "
   ]
  },
  {
   "cell_type": "markdown",
   "metadata": {},
   "source": [
    "<Caveat!> This is only the case for torch.Tensor. If you want to convert torch.Variable to numpy, you need to use Variable.data.numpy(). And if it is cuda() variable, you need to use cpu(). We will cover this later. "
   ]
  },
  {
   "cell_type": "markdown",
   "metadata": {},
   "source": [
    "# 3. Indentifying The Dimension"
   ]
  },
  {
   "cell_type": "markdown",
   "metadata": {},
   "source": [
    "## **[TensorFlow]** .shape or tf.rank() followed by .eval()\n"
   ]
  },
  {
   "cell_type": "markdown",
   "metadata": {},
   "source": [
    "The dimension is called \"Rank\" in Tensorflow. However, like numpy .shape in-place variable, tensorflow also supports .shape variable."
   ]
  },
  {
   "cell_type": "code",
   "execution_count": 22,
   "metadata": {},
   "outputs": [
    {
     "name": "stdout",
     "output_type": "stream",
     "text": [
      "Dimension(shape) of my_image:  (10, 512, 256, 3)\n"
     ]
    }
   ],
   "source": [
    "my_image = tf.zeros([10, 512, 256, 3])\n",
    "shape = my_image.shape\n",
    "print('Dimension(shape) of my_image: ', shape)"
   ]
  },
  {
   "cell_type": "markdown",
   "metadata": {},
   "source": [
    "However, after graph run, the variable \"rank\" will hold the rank value. To obtain \"rank\" value from the tensorflow variable, we should evaluate it through session."
   ]
  },
  {
   "cell_type": "code",
   "execution_count": 23,
   "metadata": {
    "scrolled": true
   },
   "outputs": [
    {
     "name": "stdout",
     "output_type": "stream",
     "text": [
      "Printing 'rank_var' does not show rank of the variable.\n",
      "rank_var: Tensor(\"Rank:0\", shape=(), dtype=int32)\n",
      "\n",
      "But after graph run (evaluation) it obtains rank value.\n",
      "Evaluated rank_var : 4\n"
     ]
    }
   ],
   "source": [
    "rank_var =tf.rank(my_image)\n",
    "tf.InteractiveSession()\n",
    "rank_var_evaluated = rank_var.eval()\n",
    "print(\"Printing 'rank_var' does not show rank of the variable.\")\n",
    "print('rank_var:', rank_var) \n",
    "print('\\nBut after graph run (evaluation) it obtains rank value.')\n",
    "print('Evaluated rank_var :', rank_var_evaluated)"
   ]
  },
  {
   "cell_type": "markdown",
   "metadata": {},
   "source": [
    "## **[PyTorch]** .shape or .size()"
   ]
  },
  {
   "cell_type": "markdown",
   "metadata": {},
   "source": [
    "As in the tensorflow example, "
   ]
  },
  {
   "cell_type": "code",
   "execution_count": 24,
   "metadata": {},
   "outputs": [
    {
     "name": "stdout",
     "output_type": "stream",
     "text": [
      "If you print it, it shows the dimension - The value of torch_for numpy: \n",
      " \n",
      " 1  2  3\n",
      " 4  5  6\n",
      "[torch.LongTensor of size 2x3]\n",
      "\n"
     ]
    }
   ],
   "source": [
    "numpy_array = np.asarray([[1, 2, 3], [4, 5, 6]])\n",
    "torch_for_numpy = torch.from_numpy(numpy_array)\n",
    "print('If you print it, it shows the dimension - The value of torch_for numpy: \\n', torch_for_numpy)\n"
   ]
  },
  {
   "cell_type": "markdown",
   "metadata": {},
   "source": [
    "But sometimes we want to get a numerical output. Thus:"
   ]
  },
  {
   "cell_type": "code",
   "execution_count": 25,
   "metadata": {},
   "outputs": [
    {
     "name": "stdout",
     "output_type": "stream",
     "text": [
      "The dim of torch_for_numpy: \n",
      " [2, 3]\n",
      "Get the numbers directly as a python list!: \n",
      " 2  and  3\n"
     ]
    }
   ],
   "source": [
    "print('The dim of torch_for_numpy: \\n', list(torch_for_numpy.size()))\n",
    "print('Get the numbers directly as a python list!: \\n', torch_for_numpy.size()[0], ' and ', torch_for_numpy.size()[1])\n"
   ]
  },
  {
   "cell_type": "markdown",
   "metadata": {},
   "source": [
    "In addition, in PyTorch you could also use the inplace variable \".shape\" to view the dimension of Tensor, just like in TensorFlow. "
   ]
  },
  {
   "cell_type": "code",
   "execution_count": 26,
   "metadata": {},
   "outputs": [
    {
     "name": "stdout",
     "output_type": "stream",
     "text": [
      "What is in the shape?: [2, 3]\n"
     ]
    }
   ],
   "source": [
    "the_size = torch_for_numpy.shape\n",
    "print('What is in the shape?:', list(torch_for_numpy.shape))"
   ]
  },
  {
   "cell_type": "markdown",
   "metadata": {
    "collapsed": true
   },
   "source": [
    "# 4. Shaping the Tensor Variables"
   ]
  },
  {
   "cell_type": "markdown",
   "metadata": {},
   "source": [
    "## **[TensorFlow]** tf.reshape"
   ]
  },
  {
   "cell_type": "markdown",
   "metadata": {},
   "source": [
    "Sometimes you need to reshape the tensor (e.g. Convolutional layer to full connected layer). "
   ]
  },
  {
   "cell_type": "code",
   "execution_count": 27,
   "metadata": {},
   "outputs": [
    {
     "name": "stdout",
     "output_type": "stream",
     "text": [
      "The shape of tf_tensor0: (2, 3, 4)\n"
     ]
    }
   ],
   "source": [
    "tf_tensor0 = tf.ones([2, 3, 4])  # 3D Tensor variable filled with ones.\n",
    "print('The shape of tf_tensor0: %s' %tf_tensor0.shape)"
   ]
  },
  {
   "cell_type": "markdown",
   "metadata": {},
   "source": [
    "Then we feed the number 12 = 3 × 4 to the shape vector to get reshaped Tensor."
   ]
  },
  {
   "cell_type": "code",
   "execution_count": 28,
   "metadata": {},
   "outputs": [
    {
     "ename": "NameError",
     "evalue": "name 'tensor0' is not defined",
     "output_type": "error",
     "traceback": [
      "\u001b[0;31m---------------------------------------------------------------------------\u001b[0m",
      "\u001b[0;31mNameError\u001b[0m                                 Traceback (most recent call last)",
      "\u001b[0;32m<ipython-input-28-bca9a4293218>\u001b[0m in \u001b[0;36m<module>\u001b[0;34m()\u001b[0m\n\u001b[0;32m----> 1\u001b[0;31m \u001b[0mtf_tensor1\u001b[0m \u001b[0;34m=\u001b[0m \u001b[0mtf\u001b[0m\u001b[0;34m.\u001b[0m\u001b[0mreshape\u001b[0m\u001b[0;34m(\u001b[0m\u001b[0mtensor0\u001b[0m\u001b[0;34m,\u001b[0m \u001b[0;34m[\u001b[0m\u001b[0;36m2\u001b[0m\u001b[0;34m,\u001b[0m \u001b[0;36m12\u001b[0m\u001b[0;34m]\u001b[0m\u001b[0;34m)\u001b[0m  \u001b[0;31m# Make \"tensor0\" matrix into 2 by 12 matrix.\u001b[0m\u001b[0;34m\u001b[0m\u001b[0m\n\u001b[0m\u001b[1;32m      2\u001b[0m \u001b[0mprint\u001b[0m\u001b[0;34m(\u001b[0m\u001b[0;34m'The shape of tf_tensor1: %s'\u001b[0m \u001b[0;34m%\u001b[0m\u001b[0mtf_tensor1\u001b[0m\u001b[0;34m.\u001b[0m\u001b[0mshape\u001b[0m\u001b[0;34m)\u001b[0m\u001b[0;34m\u001b[0m\u001b[0m\n",
      "\u001b[0;31mNameError\u001b[0m: name 'tensor0' is not defined"
     ]
    }
   ],
   "source": [
    "tf_tensor1 = tf.reshape(tensor0, [2, 12])  # Make \"tensor0\" matrix into 2 by 12 matrix.\n",
    "print('The shape of tf_tensor1: %s' %tf_tensor1.shape)"
   ]
  },
  {
   "cell_type": "markdown",
   "metadata": {},
   "source": [
    "Furthermore, reshape function supports automatic dimension shaping. Instead of punching in the dimensions, you could put '-1' and let the function figure out the rest of dimension."
   ]
  },
  {
   "cell_type": "code",
   "execution_count": null,
   "metadata": {},
   "outputs": [],
   "source": [
    "tf_tensor2 = tf.reshape(tensor0, [2, -1])  # Make \"tensor1\" matrix into 4 by 6 matrix.\n",
    "print('The shape of tf_tensor2: %s' %tf_tensor2.shape)"
   ]
  },
  {
   "cell_type": "markdown",
   "metadata": {},
   "source": [
    "Or you can specitfy multiple dimension and then set it '-1' to handle rest of the dimension."
   ]
  },
  {
   "cell_type": "code",
   "execution_count": null,
   "metadata": {},
   "outputs": [],
   "source": [
    "tf_tensor3 = tf.reshape(tensor0, [2, 2, -1])  # Make \"tensor2\" matrix into 4 by 6 matrix.\n",
    "print('The shape of tf_tensor3: %s' %tf_tensor3.shape)"
   ]
  },
  {
   "cell_type": "markdown",
   "metadata": {},
   "source": [
    "## **[PyTorch]** .view() function"
   ]
  },
  {
   "cell_type": "markdown",
   "metadata": {},
   "source": [
    "PyTorch provides with .view() function for reshaping the Tensor."
   ]
  },
  {
   "cell_type": "code",
   "execution_count": null,
   "metadata": {},
   "outputs": [],
   "source": [
    "torch_tensor0 = torch.ones([2, 3, 4])\n",
    "print('The shape of torch_tensor0:', torch_tensor0.shape)"
   ]
  },
  {
   "cell_type": "markdown",
   "metadata": {},
   "source": [
    "The usage of .view() is very analgous to tf.reshape() in TensorFlow. "
   ]
  },
  {
   "cell_type": "code",
   "execution_count": null,
   "metadata": {},
   "outputs": [],
   "source": [
    "torch_tensor1 = torch_tensor0.view(2, -1)\n",
    "print('The shape of torch_tensor1:', torch_tensor1.shape)"
   ]
  },
  {
   "cell_type": "markdown",
   "metadata": {},
   "source": [
    "Also, view_as() function copies the shape of the input Tensor and shape the corresponding Tensor."
   ]
  },
  {
   "cell_type": "code",
   "execution_count": null,
   "metadata": {},
   "outputs": [],
   "source": [
    "torch_tensor2 = torch_tensor0.view_as(torch_tensor1)\n",
    "print('The shape of torch_tensor2:', torch_tensor2.shape)"
   ]
  },
  {
   "cell_type": "markdown",
   "metadata": {},
   "source": [
    "# 5. Datatype Conversion"
   ]
  },
  {
   "cell_type": "markdown",
   "metadata": {},
   "source": [
    "# 6. Printing Variables"
   ]
  },
  {
   "cell_type": "code",
   "execution_count": null,
   "metadata": {},
   "outputs": [],
   "source": []
  }
 ],
 "metadata": {
  "kernelspec": {
   "display_name": "Python 3",
   "language": "python",
   "name": "python3"
  },
  "language_info": {
   "codemirror_mode": {
    "name": "ipython",
    "version": 3
   },
   "file_extension": ".py",
   "mimetype": "text/x-python",
   "name": "python",
   "nbconvert_exporter": "python",
   "pygments_lexer": "ipython3",
   "version": "3.6.4"
  }
 },
 "nbformat": 4,
 "nbformat_minor": 2
}
